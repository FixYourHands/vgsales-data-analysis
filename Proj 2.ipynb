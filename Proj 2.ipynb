{
 "cells": [
  {
   "cell_type": "markdown",
   "id": "f5259e68",
   "metadata": {},
   "source": [
    "# Project 2\n",
    "This report presents a data analysis of the \"Video Game Sales\" dataset from Kaggle. The goal is to explore trends in video game sales, identify popular genres, and analyze the performance of different publishers over time. "
   ]
  },
  {
   "cell_type": "code",
   "execution_count": null,
   "id": "9b91e7b8",
   "metadata": {},
   "outputs": [],
   "source": [
    "#import libraries\n",
    "import pandas as pd\n",
    "import matplotlib.pyplot as plt\n",
    "import plotly.express as px\n",
    "import os\n"
   ]
  },
  {
   "cell_type": "markdown",
   "id": "458731b6",
   "metadata": {},
   "source": [
    "## Setup\n",
    "We will setup our project using function from source.py script for better organization and readability."
   ]
  },
  {
   "cell_type": "code",
   "execution_count": null,
   "id": "409cfd5b",
   "metadata": {},
   "outputs": [],
   "source": [
    "from source import (\n",
    "    loadFile, cleanFile, plotSalesByGenre,\n",
    "    plotSalesOverTime, plotPublisherComparison,\n",
    "    plotScatterSalesGlobal, plotScatterSalesPlatform\n",
    ")\n",
    "# Ensure matplotlib plots are displayed in the notebook\n",
    "%matplotlib inline\n",
    "\n",
    "file_path = 'vgsales.csv' # Load the dataset\n",
    "vgsales_df = loadFile(file_path)\n",
    "\n",
    "# Display the first 5 rows of the raw data\n",
    "if vgsales_df is not None:\n",
    "    print(\"\\nFirst 5 rows of the raw data:\")\n",
    "    display(vgsales_df.head())\n",
    "    print(\"\\nData information:\")\n",
    "    vgsales_df.info()"
   ]
  },
  {
   "cell_type": "markdown",
   "id": "46088aee",
   "metadata": {},
   "source": [
    "## Cleanup\n",
    "This section is for cleaning up data - removing missing values or duplicates."
   ]
  },
  {
   "cell_type": "code",
   "execution_count": null,
   "id": "b3ebdcf4",
   "metadata": {},
   "outputs": [],
   "source": [
    "# Clean the data\n",
    "cleaned_vgsales_df = cleanFile(vgsales_df)\n",
    "\n",
    "# Display the information of the cleaned data\n",
    "if cleaned_vgsales_df is not None:\n",
    "    print(\"\\nInformation of the cleaned data:\")\n",
    "    cleaned_vgsales_df.info()\n",
    "    \n",
    "    print(\"\\nDescriptive statistics of numerical columns:\")\n",
    "    display(cleaned_vgsales_df.describe())"
   ]
  },
  {
   "cell_type": "markdown",
   "id": "c5f02f96",
   "metadata": {},
   "source": [
    "# Exploratory Data Analysis\n",
    "Exploring data analysis and static plots"
   ]
  },
  {
   "cell_type": "code",
   "execution_count": null,
   "id": "f087cff9",
   "metadata": {},
   "outputs": [],
   "source": [
    "plotSalesByGenre(cleaned_vgsales_df)"
   ]
  },
  {
   "cell_type": "markdown",
   "id": "dc275e2b",
   "metadata": {},
   "source": [
    "## Analysis\n",
    "We can observe a clear hierarchy, with a few dominant genres at the top (Action, Sports, Shooter, Role-Playing), followed by a moderate tier (Platform, Misc, Racing), and then several genres with considerably lower cumulative sales (Strategy, Puzzle, Adventure). This suggests that consumer preferences are heavily concentrated towards action-oriented and competitive gaming experiences."
   ]
  },
  {
   "cell_type": "code",
   "execution_count": null,
   "id": "4df886e6",
   "metadata": {},
   "outputs": [],
   "source": [
    "plotSalesOverTime(cleaned_vgsales_df)"
   ]
  },
  {
   "cell_type": "markdown",
   "id": "78dca401",
   "metadata": {},
   "source": [
    "## Analysis\n",
    "The plot clearly shows a significant peak in global sales around the years 2008-2010. This period largely coincides with the prime years of the seventh generation of consoles (e.g., PlayStation 3, Xbox 360, Nintendo Wii), which saw massive innovation, widespread casual gaming adoption (especially with the Wii), and the rise of blockbuster titles. It was a golden era for console sales. This could be due to economic factors or perhaps a rise in mobile gaming."
   ]
  },
  {
   "cell_type": "code",
   "execution_count": null,
   "id": "179cecd0",
   "metadata": {},
   "outputs": [],
   "source": [
    "plotPublisherComparison(cleaned_vgsales_df,10)"
   ]
  },
  {
   "cell_type": "markdown",
   "id": "ccd14248",
   "metadata": {},
   "source": [
    "## Analysis\n",
    "This bar chart clearly highlights the major players that have historically dominated the global video game sales market. As expected, powerhouses like Nintendo and Electronic Arts (EA) consistently rank at the top, showcasing their enduring influence and massive revenue generation."
   ]
  },
  {
   "cell_type": "markdown",
   "id": "07749e21",
   "metadata": {},
   "source": [
    "# Plotly\n",
    "To enhance our analysis, we'll now generate interactive plots using plotly.express. These plots allow for dynamic exploration, such as zooming, panning, and hovering over data points to reveal specific details."
   ]
  },
  {
   "cell_type": "markdown",
   "id": "554162b2",
   "metadata": {},
   "source": [
    "This scatter plot helps us understand the relationship between sales in North America and global sales, highlighting how different genres perform across these two metrics."
   ]
  },
  {
   "cell_type": "code",
   "execution_count": null,
   "id": "1b8c2682",
   "metadata": {},
   "outputs": [],
   "source": [
    "plotScatterSalesGlobal(cleaned_vgsales_df)"
   ]
  },
  {
   "cell_type": "markdown",
   "id": "3385fad6",
   "metadata": {},
   "source": [
    "## Analysis\n",
    "\n",
    "Strong Positive Correlation: Visually, there is a clear strong positive correlation between North American sales (NA_Sales) and Global_Sales. This is expected, as North America is one of the largest video game markets, and games that perform well there typically contribute significantly to their global success. The points generally follow an upward trend from left to right.\n",
    "\n",
    "The plot implicitly suggests the importance of the North American market. Games with low North American sales rarely achieve very high global sales, reinforcing NA's role as a primary driver of overall market success for many titles."
   ]
  },
  {
   "cell_type": "markdown",
   "id": "c76086a1",
   "metadata": {},
   "source": [
    "This interactive bar chart provides an easy way to visualize and explore the top gaming platforms by their total global sales"
   ]
  },
  {
   "cell_type": "code",
   "execution_count": null,
   "id": "546495c6",
   "metadata": {},
   "outputs": [],
   "source": [
    "plotScatterSalesPlatform(cleaned_vgsales_df,top_n=15)"
   ]
  },
  {
   "cell_type": "markdown",
   "id": "afa833ce",
   "metadata": {},
   "source": [
    "## Analysis\n",
    "This interactive bar chart provides a clear and dynamic representation of which gaming platforms have historically generated the most global sales. By hovering over each bar, users can quickly see the exact total global sales figure for that particular platform, offering precise data points beyond just visual comparison."
   ]
  },
  {
   "cell_type": "markdown",
   "id": "ad0ccb0c",
   "metadata": {},
   "source": [
    "# Conclusion\n",
    "In this analysis, we used pandas to manipulate and clean the video game sales dataset and matplotlib and plotly to visualize the data statically. We were able to identify the most profitable genres, observe the industry's sales trends over the years, determine the top-performing publishers, and examine regional sales relationships. "
   ]
  },
  {
   "cell_type": "markdown",
   "id": "30e711f2",
   "metadata": {},
   "source": [
    "# Sources\n",
    "The dataset used in this analysis, `vgsales.csv`, was obtained from \"https://www.kaggle.com/datasets/dandanjia/vgsales-csv\"\n",
    "Author: Dandan Jia"
   ]
  }
 ],
 "metadata": {
  "language_info": {
   "name": "python"
  }
 },
 "nbformat": 4,
 "nbformat_minor": 5
}
